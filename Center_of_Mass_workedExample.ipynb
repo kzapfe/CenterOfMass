{
 "cells": [
  {
   "cell_type": "markdown",
   "metadata": {},
   "source": [
    "# Center of Mass\n",
    "## a worked example\n",
    "\n",
    "We start from a file that has CSD data. "
   ]
  },
  {
   "cell_type": "code",
   "execution_count": 1,
   "metadata": {},
   "outputs": [
    {
     "data": {
      "text/plain": [
       "4-element Array{String,1}:\n",
       " \"@\"\n",
       " \"@v#.#\"\n",
       " \"@stdlib\"\n",
       " \".\""
      ]
     },
     "execution_count": 1,
     "metadata": {},
     "output_type": "execute_result"
    }
   ],
   "source": [
    "push!(LOAD_PATH, \".\")\n"
   ]
  },
  {
   "cell_type": "code",
   "execution_count": 5,
   "metadata": {},
   "outputs": [
    {
     "data": {
      "text/plain": [
       "\"/home/karel/BRWFiles/Facilitada/Completo_19115s1cut_single_event_preproc.h5\""
      ]
     },
     "execution_count": 5,
     "metadata": {},
     "output_type": "execute_result"
    }
   ],
   "source": [
    "# Example file. Put your file here. It can be an hdf5 or jld file. Custom files, adecuatelly formated,\n",
    "# can also work.\n",
    "nombre=\"/home/karel/BRWFiles/Facilitada/Completo_19115s1cut_single_event_preproc.h5\""
   ]
  },
  {
   "cell_type": "code",
   "execution_count": 7,
   "metadata": {},
   "outputs": [],
   "source": [
    "esjld=false\n",
    "if nombre[end-2:end]==\"jld\"\n",
    " esjld=true\n",
    "end"
   ]
  },
  {
   "cell_type": "code",
   "execution_count": 8,
   "metadata": {},
   "outputs": [
    {
     "name": "stderr",
     "output_type": "stream",
     "text": [
      "┌ Info: Precompiling CentrosdeMasa [top-level]\n",
      "└ @ Base loading.jl:1260\n"
     ]
    }
   ],
   "source": [
    "# put the adecuate helper library for your type of file here, or use the condicional above.\n",
    "if esjld\n",
    "    using JLD\n",
    "else\n",
    "    using HDF5\n",
    "end\n",
    "using Statistics\n",
    "using CentrosdeMasa #Module with all function necesary"
   ]
  },
  {
   "cell_type": "code",
   "execution_count": 9,
   "metadata": {},
   "outputs": [
    {
     "data": {
      "text/plain": [
       "HDF5 data file: /home/karel/BRWFiles/Facilitada/Completo_19115s1cut_single_event_preproc.h5"
      ]
     },
     "execution_count": 9,
     "metadata": {},
     "output_type": "execute_result"
    }
   ],
   "source": [
    "# open depending on file type.\n",
    "if esjld\n",
    "arx=load(nombre)\n",
    "else\n",
    "    arx=h5open(nombre)\n",
    "end\n",
    "#Checa como diablos se llama el CSD en cada Archivo\n"
   ]
  },
  {
   "cell_type": "code",
   "execution_count": 10,
   "metadata": {},
   "outputs": [],
   "source": [
    "# This is only to help load the CSD data. Use your own data name here.\n",
    "if esjld\n",
    "csda=arx[\"CSDALindenberg\"]\n",
    "else\n",
    "    csda=read(arx[\"CSDALindenberg\"])\n",
    "end\n",
    "    #csd=csddict[\"Trancazo_1\"]+csddict[\"Trancazo_2\"]+csddict[\"Trancazo_3\"];\n",
    "#csd=csd./3;"
   ]
  },
  {
   "cell_type": "code",
   "execution_count": 11,
   "metadata": {},
   "outputs": [
    {
     "data": {
      "text/plain": [
       "(64, 64, 2000)"
      ]
     },
     "execution_count": 11,
     "metadata": {},
     "output_type": "execute_result"
    }
   ],
   "source": [
    "(ancho,alto,nmax)=size(csda)"
   ]
  },
  {
   "cell_type": "code",
   "execution_count": 12,
   "metadata": {},
   "outputs": [
    {
     "data": {
      "text/plain": [
       "(-852.884f0, 2565.3699f0)"
      ]
     },
     "execution_count": 12,
     "metadata": {},
     "output_type": "execute_result"
    }
   ],
   "source": [
    "(mincsd,maxcsd)=extrema(csda)"
   ]
  },
  {
   "cell_type": "markdown",
   "metadata": {},
   "source": [
    "This is a posible threshold value, 0.01 of the largest deviation from zero. It is not usefull for Electrical Stimulated Activity, since saturated electrodes will give signals that are out of normal ranges."
   ]
  },
  {
   "cell_type": "code",
   "execution_count": 13,
   "metadata": {},
   "outputs": [
    {
     "data": {
      "text/plain": [
       "25.653698f0"
      ]
     },
     "execution_count": 13,
     "metadata": {},
     "output_type": "execute_result"
    }
   ],
   "source": [
    "ϵ=max(abs(mincsd),abs(maxcsd))/100"
   ]
  },
  {
   "cell_type": "markdown",
   "metadata": {},
   "source": [
    "Another threshold can be obtained from the standard deviation from all the data, which includes the non active electrodes."
   ]
  },
  {
   "cell_type": "code",
   "execution_count": 14,
   "metadata": {},
   "outputs": [
    {
     "data": {
      "text/plain": [
       "25.071459f0"
      ]
     },
     "execution_count": 14,
     "metadata": {},
     "output_type": "execute_result"
    }
   ],
   "source": [
    "scsd=std(csda)"
   ]
  },
  {
   "cell_type": "code",
   "execution_count": 15,
   "metadata": {},
   "outputs": [],
   "source": [
    "#= We can multiply the standard deviation by a factor larger than one in order to have more sepparated disjoint\n",
    "components. If our noice level is low, we can do the the opposite and choose a factor smaller than one. \n",
    "=#\n",
    "factor=1.0\n",
    "umbrsep=factor*scsd\n",
    "umbrsepnota=round(umbrsep, digits=4)\n",
    "(CMP, CMN)=ObtenComponentesyCM(csda,1,nmax,umbrsep);"
   ]
  },
  {
   "cell_type": "code",
   "execution_count": 16,
   "metadata": {},
   "outputs": [
    {
     "data": {
      "text/plain": [
       "\"Disjoint components where obtained with 1.0 stand. dev from the CSD data, the nominal value being\\n 25.0715 a.u.\""
      ]
     },
     "execution_count": 16,
     "metadata": {},
     "output_type": "execute_result"
    }
   ],
   "source": [
    "nota=\"Disjoint components where obtained with $factor stand. dev from the CSD data, the nominal value being\n",
    " $umbrsepnota a.u.\""
   ]
  },
  {
   "cell_type": "code",
   "execution_count": 20,
   "metadata": {},
   "outputs": [],
   "source": [
    "# It is better to use JLD (Julia's Native data)  to save\n",
    "using JLD\n",
    "# output name\n",
    "nomCM=nombre[1:end-4]*\"-CM.jld\"\n",
    "\n",
    "save(nomCM, \"CMP\", CMP, \"CMN\", CMN, \"notacm\", nota)"
   ]
  }
 ],
 "metadata": {
  "@webio": {
   "lastCommId": null,
   "lastKernelId": null
  },
  "kernelspec": {
   "display_name": "Julia 1.4.1",
   "language": "julia",
   "name": "julia-1.4"
  },
  "language_info": {
   "file_extension": ".jl",
   "mimetype": "application/julia",
   "name": "julia",
   "version": "1.4.1"
  }
 },
 "nbformat": 4,
 "nbformat_minor": 2
}
